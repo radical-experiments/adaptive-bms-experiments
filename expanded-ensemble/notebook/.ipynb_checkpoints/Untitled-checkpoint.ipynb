{
 "cells": [
  {
   "cell_type": "code",
   "execution_count": 1,
   "metadata": {},
   "outputs": [],
   "source": [
    "import pandas as pd\n",
    "import matplotlib.pyplot as plt\n",
    "import matplotlib as mpl\n",
    "import os, glob\n",
    "from __future__ import unicode_literals\n",
    "from IPython.core.display import display, HTML\n",
    "import radical.pilot as rp\n",
    "import radical.utils as ru\n",
    "import radical.analytics as ra\n",
    "from radical.entk import Profiler\n",
    "import numpy as np\n",
    "from math import sqrt\n",
    "import pandas as pd\n",
    "\n",
    "pd.set_option('expand_frame_repr', False)\n",
    "pd.set_option('display.max_rows', 50)\n",
    "\n",
    "%matplotlib inline"
   ]
  },
  {
   "cell_type": "code",
   "execution_count": 2,
   "metadata": {},
   "outputs": [
    {
     "data": {
      "text/html": [
       "<style>.container { width:100% !important; }</style>"
      ],
      "text/plain": [
       "<IPython.core.display.HTML object>"
      ]
     },
     "metadata": {},
     "output_type": "display_data"
    }
   ],
   "source": [
    "# Global configurations\n",
    "# ---------------------\n",
    "\n",
    "# Expand the notebook to the width of the browser\n",
    "display(HTML(\"<style>.container { width:100% !important; }</style>\"))\n",
    "\n",
    "# Matplotlib style\n",
    "plt.style.use('seaborn-colorblind')\n",
    "\n",
    "# Use LaTeX and its body font for the diagrams' text.\n",
    "mpl.rcParams['text.usetex'] = True\n",
    "mpl.rcParams['text.latex.unicode'] = True\n",
    "mpl.rcParams['font.family'] = 'serif'\n",
    "mpl.rcParams['font.serif']  = ['Nimbus Roman Becker No9L']\n",
    "\n",
    "# Font sizes\n",
    "SIZE = 24\n",
    "FONTSIZE = SIZE\n",
    "plt.rc('font', size=SIZE)  # controls default text sizes\n",
    "plt.rc('axes', titlesize=SIZE)  # fontsize of the axes title\n",
    "plt.rc('axes', labelsize=SIZE)  # fontsize of the x any y labels\n",
    "plt.rc('xtick', labelsize=SIZE)  # fontsize of the tick labels\n",
    "plt.rc('ytick', labelsize=SIZE)  # fontsize of the tick labels\n",
    "plt.rc('legend', fontsize=SIZE-2)  # legend fontsize\n",
    "plt.rc('figure', titlesize=SIZE)  # # size of the figure title\n",
    "\n",
    "# Use thinner lines for axes to avoid distractions.\n",
    "mpl.rcParams['axes.linewidth']    = 1\n",
    "mpl.rcParams['xtick.major.width'] = 1\n",
    "mpl.rcParams['xtick.minor.width'] = 1\n",
    "mpl.rcParams['ytick.major.width'] = 1\n",
    "mpl.rcParams['ytick.minor.width'] = 1\n",
    "mpl.rcParams['lines.linewidth'] = 2\n",
    "\n",
    "\n",
    "# Do not use a box for the legend to avoid distractions.\n",
    "mpl.rcParams['legend.frameon'] = False\n",
    "\n",
    "# Restore part of matplotlib 1.5 behavior\n",
    "mpl.rcParams['patch.force_edgecolor'] = True\n",
    "mpl.rcParams['errorbar.capsize'] = 3\n",
    "\n",
    "# Helpers\n",
    "# -------\n",
    "\n",
    "# Use coordinated colors. These are the \"Tableau 20\" colors as \n",
    "# RGB. Each pair is strong/light. For a theory of color    \n",
    "tableau20 = [(31 , 119, 180), (174, 199, 232), # blue        [ 0,1 ]\n",
    "             (255, 127, 14 ), (255, 187, 120), # orange      [ 2,3 ]\n",
    "             (44 , 160, 44 ), (152, 223, 138), # green       [ 4,5 ]\n",
    "             (214, 39 , 40 ), (255, 152, 150), # red         [ 6,7 ]\n",
    "             (148, 103, 189), (197, 176, 213), # purple      [ 8,9 ]\n",
    "             (140, 86 , 75 ), (196, 156, 148), # brown       [10,11]\n",
    "             (227, 119, 194), (247, 182, 210), # pink        [12,13]\n",
    "             (188, 189, 34 ), (219, 219, 141), # yellow      [14,15]\n",
    "             (23 , 190, 207), (158, 218, 229), # cyan        [16,17]\n",
    "             (65 , 68 , 81 ), (96 , 99 , 106), # gray        [18,19]\n",
    "             (127, 127, 127), (143, 135, 130), # gray        [20,21] \n",
    "             (165, 172, 175), (199, 199, 199), # gray        [22,23]\n",
    "             (207, 207, 207)]                   # gray        [24]\n",
    "  \n",
    "# Scale the RGB values to the [0, 1] range, which is the format \n",
    "# matplotlib accepts.    \n",
    "for i in range(len(tableau20)):  \n",
    "    r, g, b = tableau20[i]  \n",
    "    tableau20[i] = (r / 255., g / 255., b / 255.)    \n",
    "\n",
    "# Return a single plot without right and top axes\n",
    "def fig_setup(num_x, num_y, (size_x, size_y)):\n",
    "    fig, axes = plt.subplots(num_x, num_y, figsize=(size_x, size_y))\n",
    "    \n",
    "    if num_x == 1 and num_y == 1:\n",
    "        axes = [[axes]]\n",
    "        for ax1 in axes:\n",
    "            for ax2 in ax1:\n",
    "                ax2.get_xaxis().tick_bottom()  \n",
    "                ax2.get_yaxis().tick_left()\n",
    "    elif (num_x == 1 and num_y>1) or (num_x>1 and num_y == 1):\n",
    "        axes = [axes]\n",
    "        for ax1 in axes:\n",
    "            for ax2 in ax1:\n",
    "                ax2.get_xaxis().tick_bottom()  \n",
    "                ax2.get_yaxis().tick_left()\n",
    "    return fig, axes"
   ]
  },
  {
   "cell_type": "code",
   "execution_count": 25,
   "metadata": {},
   "outputs": [
    {
     "data": {
      "text/html": [
       "<div>\n",
       "<style scoped>\n",
       "    .dataframe tbody tr th:only-of-type {\n",
       "        vertical-align: middle;\n",
       "    }\n",
       "\n",
       "    .dataframe tbody tr th {\n",
       "        vertical-align: top;\n",
       "    }\n",
       "\n",
       "    .dataframe thead th {\n",
       "        text-align: right;\n",
       "    }\n",
       "</style>\n",
       "<table border=\"1\" class=\"dataframe\">\n",
       "  <thead>\n",
       "    <tr style=\"text-align: right;\">\n",
       "      <th></th>\n",
       "      <th>grompp</th>\n",
       "      <th>mdrun</th>\n",
       "      <th>post-analysis</th>\n",
       "    </tr>\n",
       "  </thead>\n",
       "  <tbody>\n",
       "    <tr>\n",
       "      <th>Iter 1</th>\n",
       "      <td>3.1179</td>\n",
       "      <td>114.8078</td>\n",
       "      <td>6.8116</td>\n",
       "    </tr>\n",
       "    <tr>\n",
       "      <th>Iter 2</th>\n",
       "      <td>2.9994</td>\n",
       "      <td>129.6024</td>\n",
       "      <td>8.9747</td>\n",
       "    </tr>\n",
       "    <tr>\n",
       "      <th>Iter 3</th>\n",
       "      <td>2.3866</td>\n",
       "      <td>122.2134</td>\n",
       "      <td>11.5251</td>\n",
       "    </tr>\n",
       "    <tr>\n",
       "      <th>Iter 4</th>\n",
       "      <td>3.3902</td>\n",
       "      <td>131.2415</td>\n",
       "      <td>14.1980</td>\n",
       "    </tr>\n",
       "    <tr>\n",
       "      <th>Iter 5</th>\n",
       "      <td>3.4226</td>\n",
       "      <td>126.5526</td>\n",
       "      <td>16.7153</td>\n",
       "    </tr>\n",
       "  </tbody>\n",
       "</table>\n",
       "</div>"
      ],
      "text/plain": [
       "        grompp     mdrun  post-analysis\n",
       "Iter 1  3.1179  114.8078         6.8116\n",
       "Iter 2  2.9994  129.6024         8.9747\n",
       "Iter 3  2.3866  122.2134        11.5251\n",
       "Iter 4  3.3902  131.2415        14.1980\n",
       "Iter 5  3.4226  126.5526        16.7153"
      ]
     },
     "metadata": {},
     "output_type": "display_data"
    }
   ],
   "source": [
    "# Profile analysis\n",
    "\n",
    "data_loc = '../raw_data'\n",
    "ensemble_size = 16\n",
    "iters = 5\n",
    "json_files = glob.glob('{0}/trial_1/rp.*/*.json'.format(data_loc))\n",
    "json_file = json_files[0]\n",
    "json      = ru.read_json(json_file)\n",
    "sid       = os.path.basename(json_file)[:-5]\n",
    "\n",
    "session = ra.Session(stype='radical.pilot', src=os.path.dirname(json_file))\n",
    "units = session.filter(etype='unit', inplace=False)\n",
    "uids = sorted(units.list('uid'))\n",
    "\n",
    "assert len(uids) == 1 + 3*ensemble_size*iters\n",
    "flag = len(uids) == 1 + 3*ensemble_size*iters\n",
    "df = pd.DataFrame(columns=['grompp','mdrun','post-analysis'])\n",
    "\n",
    "if flag:\n",
    "    for t in range(iters):\n",
    "        offset = ensemble_size*3*t\n",
    "        grompp = units.filter(uid=uids[1+offset:17+offset]).duration(event=[{ru.EVENT: 'exec_start'}, {ru.EVENT: 'exec_stop'}])\n",
    "        units = session.filter(etype='unit', inplace=False)\n",
    "        mdrun = units.filter(uid=uids[17+offset:33+offset]).duration(event=[{ru.EVENT: 'exec_start'}, {ru.EVENT: 'exec_stop'}])\n",
    "        units = session.filter(etype='unit', inplace=False)\n",
    "        post = units.filter(uid=uids[33+offset:49+offset]).duration(event=[{ru.EVENT: 'exec_start'}, {ru.EVENT: 'exec_stop'}])\n",
    "        units = session.filter(etype='unit', inplace=False)\n",
    "        \n",
    "        df.loc['Iter %s'%(t+1)] = [grompp, mdrun, post]\n",
    "        \n",
    "display(df)"
   ]
  },
  {
   "cell_type": "code",
   "execution_count": 43,
   "metadata": {},
   "outputs": [
    {
     "data": {
      "image/png": "[encoded data removed]",
      "text/plain": [
       "<matplotlib.figure.Figure at 0x7fa887b2a110>"
      ]
     },
     "metadata": {},
     "output_type": "display_data"
    }
   ],
   "source": [
    "fig, axis = fig_setup(1,1, (10,6))\n",
    "ax = df.plot(kind='bar', \n",
    "             stacked=True,\n",
    "             width=0.25,\n",
    "             ax=axis[0][0],\n",
    "             legend=False,\n",
    "             ylim=(0,180))\n",
    "\n",
    "labels, handles = ax.get_legend_handles_labels()\n",
    "plt.legend(labels, handles, ncol=3)\n",
    "plt.grid(axis='y')"
   ]
  },
  {
   "cell_type": "code",
   "execution_count": null,
   "metadata": {},
   "outputs": [],
   "source": [
    "def get_duration(units):\n",
    "    \n",
    "    "
   ]
  },
  {
   "cell_type": "code",
   "execution_count": 45,
   "metadata": {},
   "outputs": [
    {
     "name": "stdout",
     "output_type": "stream",
     "text": [
      "[u'../raw_data/trial_1/units/unit.000000', u'../raw_data/trial_1/units/unit.000001', u'../raw_data/trial_1/units/unit.000002', u'../raw_data/trial_1/units/unit.000003', u'../raw_data/trial_1/units/unit.000004', u'../raw_data/trial_1/units/unit.000005', u'../raw_data/trial_1/units/unit.000006', u'../raw_data/trial_1/units/unit.000007', u'../raw_data/trial_1/units/unit.000008', u'../raw_data/trial_1/units/unit.000009', u'../raw_data/trial_1/units/unit.000010', u'../raw_data/trial_1/units/unit.000011', u'../raw_data/trial_1/units/unit.000012', u'../raw_data/trial_1/units/unit.000013', u'../raw_data/trial_1/units/unit.000014', u'../raw_data/trial_1/units/unit.000015', u'../raw_data/trial_1/units/unit.000016', u'../raw_data/trial_1/units/unit.000017', u'../raw_data/trial_1/units/unit.000018', u'../raw_data/trial_1/units/unit.000019', u'../raw_data/trial_1/units/unit.000020', u'../raw_data/trial_1/units/unit.000021', u'../raw_data/trial_1/units/unit.000022', u'../raw_data/trial_1/units/unit.000023', u'../raw_data/trial_1/units/unit.000024', u'../raw_data/trial_1/units/unit.000025', u'../raw_data/trial_1/units/unit.000026', u'../raw_data/trial_1/units/unit.000027', u'../raw_data/trial_1/units/unit.000028', u'../raw_data/trial_1/units/unit.000029', u'../raw_data/trial_1/units/unit.000030', u'../raw_data/trial_1/units/unit.000031', u'../raw_data/trial_1/units/unit.000032', u'../raw_data/trial_1/units/unit.000033', u'../raw_data/trial_1/units/unit.000034', u'../raw_data/trial_1/units/unit.000035', u'../raw_data/trial_1/units/unit.000036', u'../raw_data/trial_1/units/unit.000037', u'../raw_data/trial_1/units/unit.000038', u'../raw_data/trial_1/units/unit.000039', u'../raw_data/trial_1/units/unit.000040', u'../raw_data/trial_1/units/unit.000041', u'../raw_data/trial_1/units/unit.000042', u'../raw_data/trial_1/units/unit.000043', u'../raw_data/trial_1/units/unit.000044', u'../raw_data/trial_1/units/unit.000045', u'../raw_data/trial_1/units/unit.000046', u'../raw_data/trial_1/units/unit.000047', u'../raw_data/trial_1/units/unit.000048', u'../raw_data/trial_1/units/unit.000049', u'../raw_data/trial_1/units/unit.000050', u'../raw_data/trial_1/units/unit.000051', u'../raw_data/trial_1/units/unit.000052', u'../raw_data/trial_1/units/unit.000053', u'../raw_data/trial_1/units/unit.000054', u'../raw_data/trial_1/units/unit.000055', u'../raw_data/trial_1/units/unit.000056', u'../raw_data/trial_1/units/unit.000057', u'../raw_data/trial_1/units/unit.000058', u'../raw_data/trial_1/units/unit.000059', u'../raw_data/trial_1/units/unit.000060', u'../raw_data/trial_1/units/unit.000061', u'../raw_data/trial_1/units/unit.000062', u'../raw_data/trial_1/units/unit.000063', u'../raw_data/trial_1/units/unit.000064', u'../raw_data/trial_1/units/unit.000065', u'../raw_data/trial_1/units/unit.000066', u'../raw_data/trial_1/units/unit.000067', u'../raw_data/trial_1/units/unit.000068', u'../raw_data/trial_1/units/unit.000069', u'../raw_data/trial_1/units/unit.000070', u'../raw_data/trial_1/units/unit.000071', u'../raw_data/trial_1/units/unit.000072', u'../raw_data/trial_1/units/unit.000073', u'../raw_data/trial_1/units/unit.000074', u'../raw_data/trial_1/units/unit.000075', u'../raw_data/trial_1/units/unit.000076', u'../raw_data/trial_1/units/unit.000077', u'../raw_data/trial_1/units/unit.000078', u'../raw_data/trial_1/units/unit.000079', u'../raw_data/trial_1/units/unit.000080', u'../raw_data/trial_1/units/unit.000081', u'../raw_data/trial_1/units/unit.000082', u'../raw_data/trial_1/units/unit.000083', u'../raw_data/trial_1/units/unit.000084', u'../raw_data/trial_1/units/unit.000085', u'../raw_data/trial_1/units/unit.000086', u'../raw_data/trial_1/units/unit.000087', u'../raw_data/trial_1/units/unit.000088', u'../raw_data/trial_1/units/unit.000089', u'../raw_data/trial_1/units/unit.000090', u'../raw_data/trial_1/units/unit.000091', u'../raw_data/trial_1/units/unit.000092', u'../raw_data/trial_1/units/unit.000093', u'../raw_data/trial_1/units/unit.000094', u'../raw_data/trial_1/units/unit.000095', u'../raw_data/trial_1/units/unit.000096', u'../raw_data/trial_1/units/unit.000097', u'../raw_data/trial_1/units/unit.000098', u'../raw_data/trial_1/units/unit.000099', u'../raw_data/trial_1/units/unit.000100', u'../raw_data/trial_1/units/unit.000101', u'../raw_data/trial_1/units/unit.000102', u'../raw_data/trial_1/units/unit.000103', u'../raw_data/trial_1/units/unit.000104', u'../raw_data/trial_1/units/unit.000105', u'../raw_data/trial_1/units/unit.000106', u'../raw_data/trial_1/units/unit.000107', u'../raw_data/trial_1/units/unit.000108', u'../raw_data/trial_1/units/unit.000109', u'../raw_data/trial_1/units/unit.000110', u'../raw_data/trial_1/units/unit.000111', u'../raw_data/trial_1/units/unit.000112', u'../raw_data/trial_1/units/unit.000113', u'../raw_data/trial_1/units/unit.000114', u'../raw_data/trial_1/units/unit.000115', u'../raw_data/trial_1/units/unit.000116', u'../raw_data/trial_1/units/unit.000117', u'../raw_data/trial_1/units/unit.000118', u'../raw_data/trial_1/units/unit.000119', u'../raw_data/trial_1/units/unit.000120', u'../raw_data/trial_1/units/unit.000121', u'../raw_data/trial_1/units/unit.000122', u'../raw_data/trial_1/units/unit.000123', u'../raw_data/trial_1/units/unit.000124', u'../raw_data/trial_1/units/unit.000125', u'../raw_data/trial_1/units/unit.000126', u'../raw_data/trial_1/units/unit.000127', u'../raw_data/trial_1/units/unit.000128', u'../raw_data/trial_1/units/unit.000129', u'../raw_data/trial_1/units/unit.000130', u'../raw_data/trial_1/units/unit.000131', u'../raw_data/trial_1/units/unit.000132', u'../raw_data/trial_1/units/unit.000133', u'../raw_data/trial_1/units/unit.000134', u'../raw_data/trial_1/units/unit.000135', u'../raw_data/trial_1/units/unit.000136', u'../raw_data/trial_1/units/unit.000137', u'../raw_data/trial_1/units/unit.000138', u'../raw_data/trial_1/units/unit.000139', u'../raw_data/trial_1/units/unit.000140', u'../raw_data/trial_1/units/unit.000141', u'../raw_data/trial_1/units/unit.000142', u'../raw_data/trial_1/units/unit.000143', u'../raw_data/trial_1/units/unit.000144', u'../raw_data/trial_1/units/unit.000145', u'../raw_data/trial_1/units/unit.000146', u'../raw_data/trial_1/units/unit.000147', u'../raw_data/trial_1/units/unit.000148', u'../raw_data/trial_1/units/unit.000149', u'../raw_data/trial_1/units/unit.000150', u'../raw_data/trial_1/units/unit.000151', u'../raw_data/trial_1/units/unit.000152', u'../raw_data/trial_1/units/unit.000153', u'../raw_data/trial_1/units/unit.000154', u'../raw_data/trial_1/units/unit.000155', u'../raw_data/trial_1/units/unit.000156', u'../raw_data/trial_1/units/unit.000157', u'../raw_data/trial_1/units/unit.000158', u'../raw_data/trial_1/units/unit.000159', u'../raw_data/trial_1/units/unit.000160', u'../raw_data/trial_1/units/unit.000161', u'../raw_data/trial_1/units/unit.000162', u'../raw_data/trial_1/units/unit.000163', u'../raw_data/trial_1/units/unit.000164', u'../raw_data/trial_1/units/unit.000165', u'../raw_data/trial_1/units/unit.000166', u'../raw_data/trial_1/units/unit.000167', u'../raw_data/trial_1/units/unit.000168', u'../raw_data/trial_1/units/unit.000169', u'../raw_data/trial_1/units/unit.000170', u'../raw_data/trial_1/units/unit.000171', u'../raw_data/trial_1/units/unit.000172', u'../raw_data/trial_1/units/unit.000173', u'../raw_data/trial_1/units/unit.000174', u'../raw_data/trial_1/units/unit.000175', u'../raw_data/trial_1/units/unit.000176', u'../raw_data/trial_1/units/unit.000177', u'../raw_data/trial_1/units/unit.000178', u'../raw_data/trial_1/units/unit.000179', u'../raw_data/trial_1/units/unit.000180', u'../raw_data/trial_1/units/unit.000181', u'../raw_data/trial_1/units/unit.000182', u'../raw_data/trial_1/units/unit.000183', u'../raw_data/trial_1/units/unit.000184', u'../raw_data/trial_1/units/unit.000185', u'../raw_data/trial_1/units/unit.000186', u'../raw_data/trial_1/units/unit.000187', u'../raw_data/trial_1/units/unit.000188', u'../raw_data/trial_1/units/unit.000189', u'../raw_data/trial_1/units/unit.000190', u'../raw_data/trial_1/units/unit.000191', u'../raw_data/trial_1/units/unit.000192', u'../raw_data/trial_1/units/unit.000193', u'../raw_data/trial_1/units/unit.000194', u'../raw_data/trial_1/units/unit.000195', u'../raw_data/trial_1/units/unit.000196', u'../raw_data/trial_1/units/unit.000197', u'../raw_data/trial_1/units/unit.000198', u'../raw_data/trial_1/units/unit.000199', u'../raw_data/trial_1/units/unit.000200', u'../raw_data/trial_1/units/unit.000201', u'../raw_data/trial_1/units/unit.000202', u'../raw_data/trial_1/units/unit.000203', u'../raw_data/trial_1/units/unit.000204', u'../raw_data/trial_1/units/unit.000205', u'../raw_data/trial_1/units/unit.000206', u'../raw_data/trial_1/units/unit.000207', u'../raw_data/trial_1/units/unit.000208', u'../raw_data/trial_1/units/unit.000209', u'../raw_data/trial_1/units/unit.000210', u'../raw_data/trial_1/units/unit.000211', u'../raw_data/trial_1/units/unit.000212', u'../raw_data/trial_1/units/unit.000213', u'../raw_data/trial_1/units/unit.000214', u'../raw_data/trial_1/units/unit.000215', u'../raw_data/trial_1/units/unit.000216', u'../raw_data/trial_1/units/unit.000217', u'../raw_data/trial_1/units/unit.000218', u'../raw_data/trial_1/units/unit.000219', u'../raw_data/trial_1/units/unit.000220', u'../raw_data/trial_1/units/unit.000221', u'../raw_data/trial_1/units/unit.000222', u'../raw_data/trial_1/units/unit.000223', u'../raw_data/trial_1/units/unit.000224', u'../raw_data/trial_1/units/unit.000225', u'../raw_data/trial_1/units/unit.000226', u'../raw_data/trial_1/units/unit.000227', u'../raw_data/trial_1/units/unit.000228', u'../raw_data/trial_1/units/unit.000229', u'../raw_data/trial_1/units/unit.000230', u'../raw_data/trial_1/units/unit.000231', u'../raw_data/trial_1/units/unit.000232', u'../raw_data/trial_1/units/unit.000233', u'../raw_data/trial_1/units/unit.000234', u'../raw_data/trial_1/units/unit.000235', u'../raw_data/trial_1/units/unit.000236', u'../raw_data/trial_1/units/unit.000237', u'../raw_data/trial_1/units/unit.000238', u'../raw_data/trial_1/units/unit.000239', u'../raw_data/trial_1/units/unit.000240']\n"
     ]
    }
   ],
   "source": [
    "# Gromacs log analysis\n",
    "data_loc = '../raw_data'\n",
    "ensemble_size = 16\n",
    "iters = 1\n",
    "units = sorted(glob.glob('{0}/trial_1/units/unit.0*'.format(data_loc)))\n",
    "\n",
    "assert len(units) == 1 + 3*ensemble_size*iters\n",
    "flag = len(units) == 1 + 3*ensemble_size*iters\n",
    "df = pd.DataFrame(columns=['grompp','mdrun','post-analysis'])\n",
    "\n",
    "for t in range(iters):\n",
    "    \n",
    "    offset = ensemble_size*3*t\n",
    "    grompp = get_duration(units[1+offset:17+offset])\n",
    "#     units = session.filter(etype='unit', inplace=False)\n",
    "#     mdrun = units.filter(uid=uids[17+offset:33+offset]).duration(event=[{ru.EVENT: 'exec_start'}, {ru.EVENT: 'exec_stop'}])\n",
    "#     units = session.filter(etype='unit', inplace=False)\n",
    "#     post = units.filter(uid=uids[33+offset:49+offset]).duration(event=[{ru.EVENT: 'exec_start'}, {ru.EVENT: 'exec_stop'}])\n",
    "#     units = session.filter(etype='unit', inplace=False)\n",
    "\n",
    "#     df.loc['Iter %s'%(t+1)] = [grompp, mdrun, post]"
   ]
  },
  {
   "cell_type": "code",
   "execution_count": null,
   "metadata": {},
   "outputs": [],
   "source": []
  }
 ],
 "metadata": {
  "kernelspec": {
   "display_name": "Python 2",
   "language": "python",
   "name": "python2"
  },
  "language_info": {
   "codemirror_mode": {
    "name": "ipython",
    "version": 2
   },
   "file_extension": ".py",
   "mimetype": "text/x-python",
   "name": "python",
   "nbconvert_exporter": "python",
   "pygments_lexer": "ipython2",
   "version": "2.7.14"
  }
 },
 "nbformat": 4,
 "nbformat_minor": 2
}
