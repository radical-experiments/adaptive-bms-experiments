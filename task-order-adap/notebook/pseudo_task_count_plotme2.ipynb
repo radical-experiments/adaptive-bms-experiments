{
 "cells": [
  {
   "cell_type": "code",
   "execution_count": 1,
   "metadata": {},
   "outputs": [
    {
     "name": "stderr",
     "output_type": "stream",
     "text": [
      "/home/vivek/Research/tools/miniconda2/envs/ve-notebook/lib/python2.7/site-packages/radical/utils/atfork/stdlib_fixer.py:63: UserWarning: logging module already imported before fixup.\n",
      "  warnings.warn('logging module already imported before fixup.')\n"
     ]
    }
   ],
   "source": [
    "# import pandas as pd\n",
    "import matplotlib.pyplot as plt\n",
    "import matplotlib as mpl\n",
    "import os, glob\n",
    "from __future__ import unicode_literals\n",
    "from IPython.core.display import display, HTML\n",
    "import radical.pilot as rp\n",
    "import radical.utils as ru\n",
    "import radical.analytics as ra\n",
    "from radical.entk import Profiler\n",
    "import numpy as np\n",
    "from math import sqrt\n",
    "import pandas as pd\n",
    "\n",
    "pd.set_option('expand_frame_repr', False)\n",
    "pd.set_option('display.max_rows', 50)\n",
    "\n",
    "%matplotlib inline"
   ]
  },
  {
   "cell_type": "code",
   "execution_count": 2,
   "metadata": {},
   "outputs": [
    {
     "data": {
      "text/html": [
       "<style>.container { width:100% !important; }</style>"
      ],
      "text/plain": [
       "<IPython.core.display.HTML object>"
      ]
     },
     "metadata": {},
     "output_type": "display_data"
    }
   ],
   "source": [
    "# Global configurations\n",
    "# ---------------------\n",
    "\n",
    "# Expand the notebook to the width of the browser\n",
    "display(HTML(\"<style>.container { width:100% !important; }</style>\"))\n",
    "\n",
    "# Matplotlib style\n",
    "plt.style.use('seaborn-colorblind')\n",
    "\n",
    "# Use LaTeX and its body font for the diagrams' text.\n",
    "mpl.rcParams['text.usetex'] = True\n",
    "mpl.rcParams['text.latex.unicode'] = True\n",
    "mpl.rcParams['font.family'] = 'serif'\n",
    "mpl.rcParams['font.serif']  = ['Nimbus Roman Becker No9L']\n",
    "\n",
    "# Font sizes\n",
    "SIZE = 24\n",
    "FONTSIZE = SIZE\n",
    "plt.rc('font', size=SIZE)  # controls default text sizes\n",
    "plt.rc('axes', titlesize=SIZE)  # fontsize of the axes title\n",
    "plt.rc('axes', labelsize=SIZE)  # fontsize of the x any y labels\n",
    "plt.rc('xtick', labelsize=SIZE)  # fontsize of the tick labels\n",
    "plt.rc('ytick', labelsize=SIZE)  # fontsize of the tick labels\n",
    "plt.rc('legend', fontsize=SIZE-2)  # legend fontsize\n",
    "plt.rc('figure', titlesize=SIZE)  # # size of the figure title\n",
    "\n",
    "# Use thinner lines for axes to avoid distractions.\n",
    "mpl.rcParams['axes.linewidth']    = 1\n",
    "mpl.rcParams['xtick.major.width'] = 1\n",
    "mpl.rcParams['xtick.minor.width'] = 1\n",
    "mpl.rcParams['ytick.major.width'] = 1\n",
    "mpl.rcParams['ytick.minor.width'] = 1\n",
    "mpl.rcParams['lines.linewidth'] = 2\n",
    "\n",
    "\n",
    "# Do not use a box for the legend to avoid distractions.\n",
    "mpl.rcParams['legend.frameon'] = False\n",
    "\n",
    "# Restore part of matplotlib 1.5 behavior\n",
    "mpl.rcParams['patch.force_edgecolor'] = True\n",
    "mpl.rcParams['errorbar.capsize'] = 3\n",
    "\n",
    "# Helpers\n",
    "# -------\n",
    "\n",
    "# Use coordinated colors. These are the \"Tableau 20\" colors as \n",
    "# RGB. Each pair is strong/light. For a theory of color    \n",
    "tableau20 = [(31 , 119, 180), (174, 199, 232), # blue        [ 0,1 ]\n",
    "             (255, 127, 14 ), (255, 187, 120), # orange      [ 2,3 ]\n",
    "             (44 , 160, 44 ), (152, 223, 138), # green       [ 4,5 ]\n",
    "             (214, 39 , 40 ), (255, 152, 150), # red         [ 6,7 ]\n",
    "             (148, 103, 189), (197, 176, 213), # purple      [ 8,9 ]\n",
    "             (140, 86 , 75 ), (196, 156, 148), # brown       [10,11]\n",
    "             (227, 119, 194), (247, 182, 210), # pink        [12,13]\n",
    "             (188, 189, 34 ), (219, 219, 141), # yellow      [14,15]\n",
    "             (23 , 190, 207), (158, 218, 229), # cyan        [16,17]\n",
    "             (65 , 68 , 81 ), (96 , 99 , 106), # gray        [18,19]\n",
    "             (127, 127, 127), (143, 135, 130), # gray        [20,21] \n",
    "             (165, 172, 175), (199, 199, 199), # gray        [22,23]\n",
    "             (207, 207, 207)]                   # gray        [24]\n",
    "  \n",
    "# Scale the RGB values to the [0, 1] range, which is the format \n",
    "# matplotlib accepts.    \n",
    "for i in range(len(tableau20)):  \n",
    "    r, g, b = tableau20[i]  \n",
    "    tableau20[i] = (r / 255., g / 255., b / 255.)    \n",
    "\n",
    "# Return a single plot without right and top axes\n",
    "def fig_setup(num_x, num_y, (size_x, size_y)):\n",
    "    fig, axes = plt.subplots(num_x, num_y, figsize=(size_x, size_y))\n",
    "    \n",
    "    if num_x == 1 and num_y == 1:\n",
    "        axes = [[axes]]\n",
    "        for ax1 in axes:\n",
    "            for ax2 in ax1:\n",
    "                ax2.get_xaxis().tick_bottom()  \n",
    "                ax2.get_yaxis().tick_left()\n",
    "    elif (num_x == 1 and num_y>1) or (num_x>1 and num_y == 1):\n",
    "        axes = [axes]\n",
    "        for ax1 in axes:\n",
    "            for ax2 in ax1:\n",
    "                ax2.get_xaxis().tick_bottom()  \n",
    "                ax2.get_yaxis().tick_left()\n",
    "    return fig, axes"
   ]
  },
  {
   "cell_type": "code",
   "execution_count": 3,
   "metadata": {},
   "outputs": [
    {
     "data": {
      "text/html": [
       "<div>\n",
       "<style>\n",
       "    .dataframe thead tr:only-child th {\n",
       "        text-align: right;\n",
       "    }\n",
       "\n",
       "    .dataframe thead th {\n",
       "        text-align: left;\n",
       "    }\n",
       "\n",
       "    .dataframe tbody tr th {\n",
       "        vertical-align: top;\n",
       "    }\n",
       "</style>\n",
       "<table border=\"1\" class=\"dataframe\">\n",
       "  <thead>\n",
       "    <tr style=\"text-align: right;\">\n",
       "      <th></th>\n",
       "      <th>Adaptive workflow</th>\n",
       "      <th>Predefined workflow</th>\n",
       "    </tr>\n",
       "  </thead>\n",
       "  <tbody>\n",
       "    <tr>\n",
       "      <th>16</th>\n",
       "      <td>50</td>\n",
       "      <td>50</td>\n",
       "    </tr>\n",
       "    <tr>\n",
       "      <th>32</th>\n",
       "      <td>100</td>\n",
       "      <td>100</td>\n",
       "    </tr>\n",
       "    <tr>\n",
       "      <th>64</th>\n",
       "      <td>200</td>\n",
       "      <td>200</td>\n",
       "    </tr>\n",
       "    <tr>\n",
       "      <th>128</th>\n",
       "      <td>400</td>\n",
       "      <td>400</td>\n",
       "    </tr>\n",
       "    <tr>\n",
       "      <th>256</th>\n",
       "      <td>800</td>\n",
       "      <td>800</td>\n",
       "    </tr>\n",
       "  </tbody>\n",
       "</table>\n",
       "</div>"
      ],
      "text/plain": [
       "    Adaptive workflow Predefined workflow\n",
       "16                 50                  50\n",
       "32                100                 100\n",
       "64                200                 200\n",
       "128               400                 400\n",
       "256               800                 800"
      ]
     },
     "metadata": {},
     "output_type": "display_data"
    }
   ],
   "source": [
    "df = pd.DataFrame(columns=['Adaptive workflow', 'Predefined workflow'])\n",
    "tasks_nums = [16,32,64,128,256]\n",
    "\n",
    "base = [50,50]\n",
    "for tasks in tasks_nums:\n",
    "    df.loc[tasks] = [(tasks/16)*val for val in base]\n",
    "    \n",
    "display(df)"
   ]
  },
  {
   "cell_type": "code",
   "execution_count": 4,
   "metadata": {},
   "outputs": [
    {
     "data": {
      "image/png": "[encoded data removed]",
      "text/plain": [
       "<matplotlib.figure.Figure at 0x7f245d21df10>"
      ]
     },
     "metadata": {},
     "output_type": "display_data"
    }
   ],
   "source": [
    "fig, axes = fig_setup(1,1,(10,6))\n",
    "\n",
    "ax = df.plot(ax=axes[0][0], kind='bar', rot=0)\n",
    "ax.set_ylabel('Execution time (seconds)')\n",
    "ax.set_xlabel('Number of tasks')\n",
    "\n",
    "fig.savefig('../plots/pseudoplots/task_order_adap_vs_predef.png', dpi=100)\n",
    "fig.savefig('../plots/pseudoplots/task_order_adap_vs_predef.pdf', dpi=100)"
   ]
  },
  {
   "cell_type": "code",
   "execution_count": null,
   "metadata": {
    "collapsed": true
   },
   "outputs": [],
   "source": []
  }
 ],
 "metadata": {
  "kernelspec": {
   "display_name": "Python 2",
   "language": "python",
   "name": "python2"
  },
  "language_info": {
   "codemirror_mode": {
    "name": "ipython",
    "version": 2
   },
   "file_extension": ".py",
   "mimetype": "text/x-python",
   "name": "python",
   "nbconvert_exporter": "python",
   "pygments_lexer": "ipython2",
   "version": "2.7.13"
  }
 },
 "nbformat": 4,
 "nbformat_minor": 2
}
