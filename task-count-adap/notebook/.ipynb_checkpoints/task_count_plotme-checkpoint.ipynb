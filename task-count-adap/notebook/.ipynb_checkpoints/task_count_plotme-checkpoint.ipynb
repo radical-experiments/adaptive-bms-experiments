{
 "cells": [
  {
   "cell_type": "code",
   "execution_count": 1,
   "metadata": {},
   "outputs": [],
   "source": [
    "# import pandas as pd\n",
    "import matplotlib.pyplot as plt\n",
    "import matplotlib as mpl\n",
    "import os, glob\n",
    "from __future__ import unicode_literals\n",
    "from IPython.core.display import display, HTML\n",
    "import radical.pilot as rp\n",
    "import radical.utils as ru\n",
    "import radical.analytics as ra\n",
    "from radical.entk import Profiler\n",
    "import numpy as np\n",
    "from math import sqrt\n",
    "import pandas as pd\n",
    "\n",
    "pd.set_option('expand_frame_repr', False)\n",
    "pd.set_option('display.max_rows', 50)\n",
    "\n",
    "%matplotlib inline"
   ]
  },
  {
   "cell_type": "code",
   "execution_count": 2,
   "metadata": {},
   "outputs": [
    {
     "data": {
      "text/html": [
       "<style>.container { width:100% !important; }</style>"
      ],
      "text/plain": [
       "<IPython.core.display.HTML object>"
      ]
     },
     "metadata": {},
     "output_type": "display_data"
    }
   ],
   "source": [
    "# Global configurations\n",
    "# ---------------------\n",
    "\n",
    "# Expand the notebook to the width of the browser\n",
    "display(HTML(\"<style>.container { width:100% !important; }</style>\"))\n",
    "\n",
    "# Matplotlib style\n",
    "plt.style.use('seaborn-colorblind')\n",
    "\n",
    "# Use LaTeX and its body font for the diagrams' text.\n",
    "mpl.rcParams['text.usetex'] = True\n",
    "mpl.rcParams['text.latex.unicode'] = True\n",
    "mpl.rcParams['font.family'] = 'serif'\n",
    "mpl.rcParams['font.serif']  = ['Nimbus Roman Becker No9L']\n",
    "\n",
    "# Font sizes\n",
    "SIZE = 24\n",
    "FONTSIZE = SIZE\n",
    "plt.rc('font', size=SIZE)  # controls default text sizes\n",
    "plt.rc('axes', titlesize=SIZE)  # fontsize of the axes title\n",
    "plt.rc('axes', labelsize=SIZE)  # fontsize of the x any y labels\n",
    "plt.rc('xtick', labelsize=SIZE)  # fontsize of the tick labels\n",
    "plt.rc('ytick', labelsize=SIZE)  # fontsize of the tick labels\n",
    "plt.rc('legend', fontsize=SIZE-2)  # legend fontsize\n",
    "plt.rc('figure', titlesize=SIZE)  # # size of the figure title\n",
    "\n",
    "# Use thinner lines for axes to avoid distractions.\n",
    "mpl.rcParams['axes.linewidth']    = 1\n",
    "mpl.rcParams['xtick.major.width'] = 1\n",
    "mpl.rcParams['xtick.minor.width'] = 1\n",
    "mpl.rcParams['ytick.major.width'] = 1\n",
    "mpl.rcParams['ytick.minor.width'] = 1\n",
    "mpl.rcParams['lines.linewidth'] = 2\n",
    "\n",
    "\n",
    "# Do not use a box for the legend to avoid distractions.\n",
    "mpl.rcParams['legend.frameon'] = False\n",
    "\n",
    "# Restore part of matplotlib 1.5 behavior\n",
    "mpl.rcParams['patch.force_edgecolor'] = True\n",
    "mpl.rcParams['errorbar.capsize'] = 3\n",
    "\n",
    "# Helpers\n",
    "# -------\n",
    "\n",
    "# Use coordinated colors. These are the \"Tableau 20\" colors as \n",
    "# RGB. Each pair is strong/light. For a theory of color    \n",
    "tableau20 = [(31 , 119, 180), (174, 199, 232), # blue        [ 0,1 ]\n",
    "             (255, 127, 14 ), (255, 187, 120), # orange      [ 2,3 ]\n",
    "             (44 , 160, 44 ), (152, 223, 138), # green       [ 4,5 ]\n",
    "             (214, 39 , 40 ), (255, 152, 150), # red         [ 6,7 ]\n",
    "             (148, 103, 189), (197, 176, 213), # purple      [ 8,9 ]\n",
    "             (140, 86 , 75 ), (196, 156, 148), # brown       [10,11]\n",
    "             (227, 119, 194), (247, 182, 210), # pink        [12,13]\n",
    "             (188, 189, 34 ), (219, 219, 141), # yellow      [14,15]\n",
    "             (23 , 190, 207), (158, 218, 229), # cyan        [16,17]\n",
    "             (65 , 68 , 81 ), (96 , 99 , 106), # gray        [18,19]\n",
    "             (127, 127, 127), (143, 135, 130), # gray        [20,21] \n",
    "             (165, 172, 175), (199, 199, 199), # gray        [22,23]\n",
    "             (207, 207, 207)]                   # gray        [24]\n",
    "  \n",
    "# Scale the RGB values to the [0, 1] range, which is the format \n",
    "# matplotlib accepts.    \n",
    "for i in range(len(tableau20)):  \n",
    "    r, g, b = tableau20[i]  \n",
    "    tableau20[i] = (r / 255., g / 255., b / 255.)    \n",
    "\n",
    "# Return a single plot without right and top axes\n",
    "def fig_setup(num_x, num_y, (size_x, size_y)):\n",
    "    fig, axes = plt.subplots(num_x, num_y, figsize=(size_x, size_y))\n",
    "    \n",
    "    if num_x == 1 and num_y == 1:\n",
    "        axes = [[axes]]\n",
    "        for ax1 in axes:\n",
    "            for ax2 in ax1:\n",
    "                ax2.get_xaxis().tick_bottom()  \n",
    "                ax2.get_yaxis().tick_left()\n",
    "    elif (num_x == 1 and num_y>1) or (num_x>1 and num_y == 1):\n",
    "        axes = [axes]\n",
    "        for ax1 in axes:\n",
    "            for ax2 in ax1:\n",
    "                ax2.get_xaxis().tick_bottom()  \n",
    "                ax2.get_yaxis().tick_left()\n",
    "    return fig, axes"
   ]
  },
  {
   "cell_type": "code",
   "execution_count": 3,
   "metadata": {},
   "outputs": [],
   "source": [
    "def get_wf_adap(path):\n",
    "    p = Profiler(src=path)\n",
    "    pipe_uid = open(path+'/radical.entk.wfprocessor.0000-proc.prof','r').readlines()[9].split(',')[-3]\n",
    "#     print pipe_uid\n",
    "    return p.duration(objects=[pipe_uid], states=['SCHEDULING','DONE'])"
   ]
  },
  {
   "cell_type": "code",
   "execution_count": 4,
   "metadata": {},
   "outputs": [],
   "source": [
    "def get_wf_predef(path):\n",
    "    path = glob.glob(path+'/re.session*')[0]\n",
    "    p = Profiler(src=path)\n",
    "    return p.duration(objects=['radical.entk.pipeline.0000'], states=['SCHEDULING','DONE'])"
   ]
  },
  {
   "cell_type": "code",
   "execution_count": 5,
   "metadata": {},
   "outputs": [],
   "source": [
    "stages = [16,32,64]\n",
    "df = pd.DataFrame(columns=['predef','adap'])\n",
    "for s in stages:\n",
    "    predef_path = '../raw_data/app_predef/dur-60-stages-%s'%s\n",
    "    predef_time = get_wf_predef(predef_path)\n",
    "    adap_path = '../raw_data/app_adap/trial_1/dur-60-addstages-%s'%s\n",
    "    adap_time = get_wf_adap(adap_path)\n",
    "    df.loc[s] = [predef_time, adap_time]"
   ]
  },
  {
   "cell_type": "code",
   "execution_count": 6,
   "metadata": {},
   "outputs": [
    {
     "data": {
      "text/html": [
       "<div>\n",
       "<style scoped>\n",
       "    .dataframe tbody tr th:only-of-type {\n",
       "        vertical-align: middle;\n",
       "    }\n",
       "\n",
       "    .dataframe tbody tr th {\n",
       "        vertical-align: top;\n",
       "    }\n",
       "\n",
       "    .dataframe thead th {\n",
       "        text-align: right;\n",
       "    }\n",
       "</style>\n",
       "<table border=\"1\" class=\"dataframe\">\n",
       "  <thead>\n",
       "    <tr style=\"text-align: right;\">\n",
       "      <th></th>\n",
       "      <th>predef</th>\n",
       "      <th>adap</th>\n",
       "    </tr>\n",
       "  </thead>\n",
       "  <tbody>\n",
       "    <tr>\n",
       "      <th>16</th>\n",
       "      <td>1040.0151</td>\n",
       "      <td>1112.1647</td>\n",
       "    </tr>\n",
       "    <tr>\n",
       "      <th>32</th>\n",
       "      <td>2089.2016</td>\n",
       "      <td>2155.0919</td>\n",
       "    </tr>\n",
       "    <tr>\n",
       "      <th>64</th>\n",
       "      <td>4179.8320</td>\n",
       "      <td>4152.5660</td>\n",
       "    </tr>\n",
       "  </tbody>\n",
       "</table>\n",
       "</div>"
      ],
      "text/plain": [
       "       predef       adap\n",
       "16  1040.0151  1112.1647\n",
       "32  2089.2016  2155.0919\n",
       "64  4179.8320  4152.5660"
      ]
     },
     "metadata": {},
     "output_type": "display_data"
    }
   ],
   "source": [
    "display(df)"
   ]
  },
  {
   "cell_type": "code",
   "execution_count": 7,
   "metadata": {},
   "outputs": [
    {
     "name": "stderr",
     "output_type": "stream",
     "text": [
      "/home/vivek/Research/ves/ve-pandas/local/lib/python2.7/site-packages/matplotlib/font_manager.py:1328: UserWarning: findfont: Font family [u'serif'] not found. Falling back to DejaVu Sans\n",
      "  (prop.get_family(), self.defaultFamily[fontext]))\n"
     ]
    },
    {
     "data": {
      "image/png": "[encoded data removed]",
      "text/plain": [
       "<Figure size 720x432 with 1 Axes>"
      ]
     },
     "metadata": {},
     "output_type": "display_data"
    }
   ],
   "source": [
    "fig, ax = fig_setup(1,1,(10,6))\n",
    "ax = df.plot(ax=ax[0][0], kind='line', legend=False)\n",
    "ax.set_xscale('log',basex=2)\n",
    "ax.set_xlabel('Number of stages')\n",
    "ax.set_ylabel('Execution time (seconds)')\n",
    "handles, labels = ax.get_legend_handles_labels()\n",
    "labels = ['Predefined workflow','Adaptive workflow']\n",
    "ax.legend(handles, labels)\n",
    "\n",
    "fig.savefig('../plots/task-count-adaptivity.png', dpi=100)\n",
    "fig.savefig('../plots/task-count-adaptivity.pdf', dpi=100)"
   ]
  },
  {
   "cell_type": "code",
   "execution_count": 8,
   "metadata": {},
   "outputs": [],
   "source": [
    "def get_task_uids(path,s):\n",
    "    \n",
    "    f = open(path+'/radical.entk.wfprocessor.0000-proc.prof','r').readlines()\n",
    "    task_uids = []\n",
    "    for line in f:\n",
    "        for word in line.split(','):\n",
    "            if word.startswith('radical.entk.task.') and word not in task_uids:\n",
    "                task_uids.append(word)   \n",
    "    return task_uids"
   ]
  },
  {
   "cell_type": "code",
   "execution_count": 9,
   "metadata": {},
   "outputs": [],
   "source": [
    "def get_adapt_time(path):\n",
    "    f = f = open(path+'/radical.entk.wfprocessor.0000-obj.prof','r').readlines()\n",
    "    t_start=0\n",
    "    t_stop=0\n",
    "    dur = 0.0\n",
    "    for line in f:\n",
    "        words = line.split(',')\n",
    "        if words[1].startswith('executing post-exec'):\n",
    "            t_start = float(words[0])\n",
    "        if words[1].startswith('post-exec executed'):\n",
    "            t_stop = float(words[0])\n",
    "        if t_start > 0 and t_stop > 0:\n",
    "            dur += t_stop - t_start\n",
    "            t_start=0\n",
    "            t_stop=0\n",
    "    return dur"
   ]
  },
  {
   "cell_type": "code",
   "execution_count": 10,
   "metadata": {},
   "outputs": [],
   "source": [
    "def get_data(df):\n",
    "    '''\n",
    "    Columns on the dataframe\n",
    "    'EnTK setup overhead','EnTK tear-down overhead', 'RTS tear-down overhead', \n",
    "    'EnTK management overhead', 'EnTK adaptivity overhead','RTS overhead', \n",
    "    'Execution time'\n",
    "    '''\n",
    "        \n",
    "    trials=1\n",
    "    stages = [16,32,64]\n",
    "\n",
    "    for s in stages:\n",
    "        \n",
    "        entk_setup_ov_list = list()\n",
    "        entk_teardown_ov_list = list()\n",
    "        rp_teardown_ov_list = list()\n",
    "        entk_mgmt_ov_list = list()\n",
    "        entk_adap_ov_list = list()\n",
    "        rp_ov_list = list()\n",
    "        exec_list = list()\n",
    "        \n",
    "        for t in range(1,trials+1):\n",
    "        \n",
    "            path = '../raw_data/app_adap/trial_1/dur-60-addstages-%s/rp.session.*.json'%s\n",
    "            json_files = glob.glob(path)        \n",
    "            json_file = json_files[0]\n",
    "            json      = ru.read_json(json_file)\n",
    "            sid       = os.path.basename(json_file)[:-5]\n",
    "\n",
    "            print sid\n",
    "\n",
    "            if s==64:\n",
    "                session = ra.Session(sid=sid, stype='radical.pilot', src=os.path.dirname(path))\n",
    "                session.filter(etype=['unit'])\n",
    "                unit_uids = sorted(session.list('uid'))\n",
    "                units = session.filter(uid=unit_uids[:s], etype='unit', inplace=False)\n",
    "            else:\n",
    "                session = ra.Session(sid=sid, stype='radical.pilot', src=os.path.dirname(path))\n",
    "                units = session.filter(etype='unit', inplace=False)\n",
    "            \n",
    "\n",
    "            p = Profiler(src=os.path.dirname(path))        \n",
    "            task_uids = get_task_uids(os.path.dirname(path),s)\n",
    "\n",
    "            entk_dur = p.duration(task_uids, states=['SCHEDULING', 'DONE'])    \n",
    "            # Time taken in appmanager to rreq function call\n",
    "            entk_core_1 = p.duration('radical.entk.appmanager.0000', events=['create amgr obj', 'init rreq submission'])\n",
    "            # Time taken to create resource manager obj\n",
    "            entk_core_2 = p.duration('radical.entk.resource_manager.0000', events = ['create rmgr obj', 'rmgr obj created'])\n",
    "            # Time taken to tear down appmanager\n",
    "            entk_teardown_1 = p.duration('radical.entk.appmanager.0000', events=['start termination', 'termination done'])\n",
    "            # Time taken to deallocate resource reservation\n",
    "            entk_teardown_2 = p.duration('radical.entk.resource_manager.0000', events = ['canceling resource allocation', 'resource allocation cancelled'])\n",
    "            # Time to adapt\n",
    "            entk_adapt = get_adapt_time(os.path.dirname(path))\n",
    "            \n",
    "            \n",
    "            rp_dur = units.duration([rp.NEW, rp.DONE])\n",
    "            exec_dur = units.duration(event=[{ru.EVENT: 'exec_start'},\n",
    "                                             {ru.EVENT: 'exec_stop'}])\n",
    "    \n",
    "            # 'EnTK setup overhead'\n",
    "            entk_setup_ov = entk_core_1 + entk_core_2\n",
    "            # EnTK teardown overhead'\n",
    "            entk_teardown_ov = entk_teardown_1 - entk_teardown_2\n",
    "            # RP cancelation overhead'\n",
    "            entk_rp_cancel_ov = entk_teardown_2\n",
    "            # 'EnTK task management overhead'\n",
    "            entk_task_mgmt_ov = entk_dur - rp_dur\n",
    "            # 'RP overhead'\n",
    "            rp_ov = rp_dur - exec_dur\n",
    "\n",
    "            entk_setup_ov_list.append(entk_setup_ov)\n",
    "            entk_teardown_ov_list.append(entk_teardown_ov)\n",
    "            rp_teardown_ov_list.append(entk_rp_cancel_ov)\n",
    "            entk_mgmt_ov_list.append(entk_task_mgmt_ov)\n",
    "            rp_ov_list.append(rp_ov)\n",
    "            exec_list.append(exec_dur)\n",
    "            entk_adap_ov_list.append(entk_adapt)\n",
    "    \n",
    "        df.loc[s] = [np.mean(entk_setup_ov_list), \n",
    "                           np.mean(entk_teardown_ov_list), \n",
    "                           np.mean(rp_teardown_ov_list), \n",
    "                           np.mean(entk_mgmt_ov_list), \n",
    "                           np.mean(entk_adap_ov_list),\n",
    "                           np.mean(rp_ov_list),\n",
    "                           np.mean(exec_list)]\n",
    "    \n",
    "#         df_err.loc['mdrun'] = [np.std(entk_setup_ov_list)/sqrt(trials), \n",
    "#                              np.std(entk_teardown_ov_list)/sqrt(trials), \n",
    "#                              np.std(entk_rp_cancel_ov_list)/sqrt(trials),\n",
    "#                              np.std(entk_task_mgmt_ov_list)/sqrt(trials), \n",
    "#                              np.std(rp_ov_list)/sqrt(trials),\n",
    "#                              np.std(exec_list)/sqrt(trials),\n",
    "#                              np.std(data_staging_dur_list)/sqrt(trials)]\n",
    "    \n",
    "    return df"
   ]
  },
  {
   "cell_type": "code",
   "execution_count": 11,
   "metadata": {},
   "outputs": [
    {
     "name": "stdout",
     "output_type": "stream",
     "text": [
      "rp.session.js-17-212.jetstream-cloud.org.vivek91.017514.0718\n",
      "WARNING: profile \"../raw_data/app_adap/trial_1/dur-60-addstages-16/rp.session.js-17-212.jetstream-cloud.org.vivek91.017514.0718/umgr.0000.prof\" not correctly closed.\n",
      "WARNING: profile \"../raw_data/app_adap/trial_1/dur-60-addstages-16/rp.session.js-17-212.jetstream-cloud.org.vivek91.017514.0718/umgr.0000.prof\" not correctly closed.\n",
      "rp.session.js-17-212.jetstream-cloud.org.vivek91.017519.0256\n",
      "rp.session.js-17-212.jetstream-cloud.org.vivek91.017514.1530\n",
      "    EnTK setup overhead  EnTK tear-down overhead  RTS tear-down overhead  EnTK management overhead  EnTK adaptivity overhead  RTS overhead  Execution time\n",
      "16               0.1164                  18.6111                 13.5924                  9.864000                  0.009700     72.435500       1029.6655\n",
      "32               0.1339                  16.8463                 11.3984                 10.954901                  0.022599    144.890699       1998.8568\n",
      "64               0.6855                  19.6867                 13.4175                  1.932201                  0.044001    273.218699       3876.2687\n"
     ]
    }
   ],
   "source": [
    "df = pd.DataFrame(columns=[ 'EnTK setup overhead','EnTK tear-down overhead', 'RTS tear-down overhead', \n",
    "                            'EnTK management overhead', 'EnTK adaptivity overhead','RTS overhead', \n",
    "                            'Execution time'])\n",
    "print get_data(df)"
   ]
  },
  {
   "cell_type": "code",
   "execution_count": 12,
   "metadata": {},
   "outputs": [
    {
     "name": "stderr",
     "output_type": "stream",
     "text": [
      "/home/vivek/Research/ves/ve-pandas/local/lib/python2.7/site-packages/pandas/plotting/_core.py:1716: UserWarning: Pandas doesn't allow columns to be created via a new attribute name - see https://pandas.pydata.org/pandas-docs/stable/indexing.html#attribute-access\n",
      "  series.name = label\n"
     ]
    },
    {
     "data": {
      "image/png": "[encoded data removed]",
      "text/plain": [
       "<Figure size 1008x432 with 2 Axes>"
      ]
     },
     "metadata": {},
     "output_type": "display_data"
    }
   ],
   "source": [
    "fig, ax = fig_setup(1,1,(14,6))\n",
    "#print df['EnTK setup overhead'], df['EnTK teardown overhead']\n",
    "\n",
    "width=0.125\n",
    "ax = df.plot(kind='bar', \n",
    "             ax=ax[0][0],\n",
    "#              yerr=df_err,\n",
    "             fontsize=FONTSIZE,\n",
    "             y = df.columns.drop('Execution time').tolist(),\n",
    "             width=5*width,\n",
    "             position=1,\n",
    "             legend=False,\n",
    "             logy=True,\n",
    "             ylim=(0.001,10000000),\n",
    "            )\n",
    "\n",
    "ax2 = df['Execution time'].plot(ax=ax, \n",
    "                                legend=False,\n",
    "#                                 yerr = df_err['Execution time'],\n",
    "                                kind='bar', \n",
    "                                secondary_y=True,\n",
    "                                width=width,\n",
    "                                rot=0,\n",
    "                                color=tableau20[10],\n",
    "                                position=0)\n",
    "\n",
    "ax.set_xlabel('Number of stages added during runtime', fontsize=FONTSIZE)\n",
    "ax.set_ylabel('Time (seconds)', fontsize=FONTSIZE)\n",
    "ax.set_title(ax.get_title(), fontsize=FONTSIZE)\n",
    "ax2.set_ylabel('Time (seconds)', fontsize=FONTSIZE)\n",
    "ax2.set_ylim(0,10000)\n",
    "plt.gca().set_xlim([-1.,2.5])\n",
    "\n",
    "h1, l1 = ax.get_legend_handles_labels()\n",
    "h2, l2 = ax2.get_legend_handles_labels()\n",
    "labels = ['EnTK Setup Overhead', \n",
    "          'EnTK Tear-Down Overhead', \n",
    "          'RTS Tear-Down Overhead',\n",
    "          'EnTK Management Overhead',\n",
    "          'EnTK Adaptivity Overhead',\n",
    "          'RTS Execution Overhead',\n",
    "          'Task Execution Time (right)']\n",
    "handles = h1 + h2\n",
    "plt.legend(handles,labels,fontsize=FONTSIZE, loc='upper left', ncol=2)\n",
    "\n",
    "fig.savefig('../plots/entk_rp_overheads_stress_supermic.pdf', dpi=100, bbox_inches='tight')\n",
    "fig.savefig('../plots/entk_rp_overheads_stress_supermic.png', dpi=100, bbox_inches='tight')"
   ]
  },
  {
   "cell_type": "code",
   "execution_count": null,
   "metadata": {},
   "outputs": [],
   "source": []
  }
 ],
 "metadata": {
  "kernelspec": {
   "display_name": "Python 2",
   "language": "python",
   "name": "python2"
  },
  "language_info": {
   "codemirror_mode": {
    "name": "ipython",
    "version": 2
   },
   "file_extension": ".py",
   "mimetype": "text/x-python",
   "name": "python",
   "nbconvert_exporter": "python",
   "pygments_lexer": "ipython2",
   "version": "2.7.12"
  }
 },
 "nbformat": 4,
 "nbformat_minor": 2
}
